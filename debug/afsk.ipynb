{
 "cells": [
  {
   "cell_type": "markdown",
   "id": "3c62f1f0-9414-4e58-8649-e17d3adf39c1",
   "metadata": {},
   "source": [
    "## Generate AX25 frame"
   ]
  },
  {
   "cell_type": "code",
   "execution_count": 1,
   "id": "b7be8cb7-9bf3-4fa7-822c-0a66a84439ab",
   "metadata": {},
   "outputs": [],
   "source": [
    "import ax25\n",
    "\n",
    "callsign = b'UT3USW'\n",
    "Digi =b'WIDE1-1,WIDE2-2'\n",
    "dest = b\"APFIIO\"\n",
    "info = b\"/140623h5031.21N/03030.46Ea/A=000390!w?k!\"\n",
    "\n",
    "packet = ax25.UI(\n",
    "            destination=dest,\n",
    "            source=callsign, \n",
    "            info=info,\n",
    "            digipeaters=Digi.split(b','),\n",
    "        )"
   ]
  },
  {
   "cell_type": "markdown",
   "id": "dca9e77b-4780-472e-9b11-d4d3b413029f",
   "metadata": {},
   "source": [
    "### Our position AX25 packet"
   ]
  },
  {
   "cell_type": "code",
   "execution_count": 2,
   "id": "69d0fb9e-d1c8-469a-8667-7497452829c4",
   "metadata": {
    "tags": []
   },
   "outputs": [
    {
     "name": "stdout",
     "output_type": "stream",
     "text": [
      "bitarray('01111110010000010000010100110001010010010100100101111001000001100101010100010101011001100101010101100101011101010000011001110101010010010001000101010001010001100000001001000110011101010100100100010001010100010010011000000010101001101100000000001111101110100100011000010110000001100011011000100110011001100000101101010110000001100110011001000110001110100010011001000110001110010111101000000110011001100000011001100110000001100011101000010110001101100101000101000011011110100100000101011110000001100000011000000110011001100100111000000110010000100111011101111101001101011010000100110110101111010001111110')\n"
     ]
    }
   ],
   "source": [
    "print(packet.unparse())"
   ]
  },
  {
   "cell_type": "code",
   "execution_count": 3,
   "id": "b08e599e-fb3e-4d7d-b365-b196f6c4b50b",
   "metadata": {
    "tags": []
   },
   "outputs": [
    {
     "name": "stdout",
     "output_type": "stream",
     "text": [
      "b'~\\x82\\xa0\\x8c\\x92\\x92\\x9e`\\xaa\\xa8f\\xaa\\xa6\\xae`\\xae\\x92\\x88\\x8ab@b\\xae\\x92\\x88\\x8ad@e\\x03\\xf0]bh`ldf\\xd0j`fb\\\\db\\x9c^`f`f`\\\\hl\\x8a\\xc2^\\x82z```fr`B\\xee\\xbe\\xac\\x85l\\xbd\\xf8\\x01'\n"
     ]
    }
   ],
   "source": [
    "print(packet.unparseToBytes())"
   ]
  },
  {
   "cell_type": "code",
   "execution_count": 4,
   "id": "13a5e32f-c804-4f3a-8a32-1e618283f408",
   "metadata": {
    "tags": []
   },
   "outputs": [],
   "source": [
    "import math\n",
    "\n",
    "MARK_HZ = 1200.0\n",
    "SPACE_HZ = 2200.0\n",
    "BAUD_RATE = 1200.0\n",
    "\n",
    "FRAME_RATE=44100\n",
    "\n",
    "TWO_PI = 2.0 * math.pi"
   ]
  },
  {
   "cell_type": "code",
   "execution_count": 5,
   "id": "00122bf1-05ac-47ce-8e19-84f6d8a5adeb",
   "metadata": {
    "tags": []
   },
   "outputs": [],
   "source": [
    "import itertools\n",
    "\n",
    "from bitarray import bitarray\n",
    "\n",
    "def encode(binary_data):\n",
    "    framed_data = frame(binary_data)\n",
    "\n",
    "    return multiply(modulate(framed_data), constant(0.5))"
   ]
  },
  {
   "cell_type": "code",
   "execution_count": 6,
   "id": "62256208-8eea-463b-9fc5-cb9027f3ef55",
   "metadata": {
    "tags": []
   },
   "outputs": [],
   "source": [
    "def nrzi(data):\n",
    "    current = True\n",
    "    for bit in data:\n",
    "        if not bit:\n",
    "            current = not current \n",
    "        yield current"
   ]
  },
  {
   "cell_type": "code",
   "execution_count": 7,
   "id": "447c7a40-3b4d-4f9a-ae22-8a521630498c",
   "metadata": {
    "tags": []
   },
   "outputs": [],
   "source": [
    "def frame(stuffed_data):\n",
    "    return nrzi(\n",
    "        stuffed_data\n",
    "    )"
   ]
  },
  {
   "cell_type": "code",
   "execution_count": 8,
   "id": "f8b1ebd7-95f2-48f8-90b4-480268712e5a",
   "metadata": {
    "tags": []
   },
   "outputs": [],
   "source": [
    "def modulate(data):\n",
    "    seconds_per_sample = 1.0 / FRAME_RATE\n",
    "    phase, seconds, bits = 0, 0, 0\n",
    "\n",
    "    clock = (x / BAUD_RATE for x in itertools.count(1))\n",
    "    tones = (MARK_HZ if bit else SPACE_HZ for bit in data)\n",
    "\n",
    "    for boundary, frequency in zip(clock, tones):\n",
    "        phase_change_per_sample = TWO_PI / (FRAME_RATE / frequency)\n",
    "        while seconds < boundary:\n",
    "            yield math.sin(phase)\n",
    "\n",
    "            seconds += seconds_per_sample\n",
    "            phase += phase_change_per_sample\n",
    "\n",
    "            if phase > TWO_PI:\n",
    "                phase -= TWO_PI\n",
    "\n",
    "        bits += 1"
   ]
  },
  {
   "cell_type": "code",
   "execution_count": 9,
   "id": "8382a5b1-08ed-4942-9fa5-7ce6371b54d1",
   "metadata": {
    "tags": []
   },
   "outputs": [],
   "source": [
    "def silence(seconds=None):\n",
    "    if seconds != None:\n",
    "        for i in range(int(FRAME_RATE * seconds)):\n",
    "            yield 0\n",
    "    else:\n",
    "        while True:\n",
    "            yield 0"
   ]
  },
  {
   "cell_type": "code",
   "execution_count": 10,
   "id": "c55d267f-4116-4f90-948b-ce5f9e3780c5",
   "metadata": {
    "tags": []
   },
   "outputs": [],
   "source": [
    "def encode(binary_data):\n",
    "    framed_data = frame(binary_data)\n",
    "\n",
    "    for sample in itertools.chain(\n",
    "        silence(1.05), \n",
    "        modulate(framed_data), \n",
    "        silence(1.05), \n",
    "    ):\n",
    "        yield sample"
   ]
  },
  {
   "cell_type": "code",
   "execution_count": 11,
   "id": "4900df76-64dd-4d01-b9a8-58492e6684e9",
   "metadata": {
    "tags": []
   },
   "outputs": [
    {
     "name": "stdout",
     "output_type": "stream",
     "text": [
      "DONE\n"
     ]
    }
   ],
   "source": [
    "import wave\n",
    "import struct\n",
    "\n",
    "num_channels = 1\n",
    "sampwidth = 2\n",
    "\n",
    "with wave.open('output.wav', 'w') as wav_file:\n",
    "    wav_file.setnchannels(num_channels)\n",
    "    wav_file.setsampwidth(sampwidth)\n",
    "    wav_file.setframerate(FRAME_RATE)\n",
    "\n",
    "    bitarray_fr = packet.unparse()\n",
    "\n",
    "    str1 = \"\";\n",
    "    for b in bitarray_fr:\n",
    "        str1 += str(b);\n",
    "\n",
    "    new = bitarray(str1)\n",
    "\n",
    "    for sample in encode(bitarray_fr):\n",
    "        scaled_sample = int(max(min(sample * 32767.0, 32767), -32768))\n",
    "        wav_file.writeframes(scaled_sample.to_bytes(2, byteorder='little', signed=True) )\n",
    "    print (\"DONE\")"
   ]
  },
  {
   "cell_type": "code",
   "execution_count": null,
   "id": "ecaac73a-3979-47a4-8149-5f036542bd11",
   "metadata": {},
   "outputs": [],
   "source": []
  }
 ],
 "metadata": {
  "kernelspec": {
   "display_name": "Python 3 (ipykernel)",
   "language": "python",
   "name": "python3"
  },
  "language_info": {
   "codemirror_mode": {
    "name": "ipython",
    "version": 3
   },
   "file_extension": ".py",
   "mimetype": "text/x-python",
   "name": "python",
   "nbconvert_exporter": "python",
   "pygments_lexer": "ipython3",
   "version": "3.9.7"
  }
 },
 "nbformat": 4,
 "nbformat_minor": 5
}
